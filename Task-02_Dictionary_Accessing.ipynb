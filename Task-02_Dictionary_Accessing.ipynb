{
 "cells": [
  {
   "cell_type": "code",
   "execution_count": 17,
   "metadata": {},
   "outputs": [
    {
     "name": "stdout",
     "output_type": "stream",
     "text": [
      "Mike\n",
      "80\n",
      "Sathish Arumugam\n",
      "{'april_batch': {'student': {'name': 'Sathish Arumugam', 'marks': {'python': 80, 'maths': 70, 'ML': 80, 'DL': 80}}}}\n"
     ]
    }
   ],
   "source": [
    "\n",
    "dict1 = { \n",
    "   \"april_batch\":{ \n",
    "      \"student\":{ \n",
    "         \"name\":\"Mike\",\n",
    "         \"marks\":{ \n",
    "            \"python\":80,\n",
    "            \"maths\":70\n",
    "         }\n",
    "      }\n",
    "   }\n",
    "}\n",
    "\n",
    "\n",
    "print(dict1[\"april_batch\"][\"student\"][\"name\"]) # Access \"Mike\"\n",
    "print(dict1[\"april_batch\"][\"student\"][\"marks\"][\"python\"]) # Access \"80\"\n",
    "dict1[\"april_batch\"][\"student\"][\"name\"] = \"Sathish Arumugam\"  # Change \"Mike\" to \"Your name\"\n",
    "print(dict1[\"april_batch\"][\"student\"][\"name\"])\n",
    "dict1[\"april_batch\"][\"student\"][\"marks\"]['ML'] = 80 # Add ML = 80 inside marks\n",
    "dict1[\"april_batch\"][\"student\"][\"marks\"]['DL'] = 80 # Add DL = 80 inside marks\n",
    "print(dict1)"
   ]
  }
 ],
 "metadata": {
  "kernelspec": {
   "display_name": "Python 3",
   "language": "python",
   "name": "python3"
  },
  "language_info": {
   "codemirror_mode": {
    "name": "ipython",
    "version": 3
   },
   "file_extension": ".py",
   "mimetype": "text/x-python",
   "name": "python",
   "nbconvert_exporter": "python",
   "pygments_lexer": "ipython3",
   "version": "3.8.3"
  }
 },
 "nbformat": 4,
 "nbformat_minor": 4
}
