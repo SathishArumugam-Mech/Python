{
 "cells": [
  {
   "cell_type": "markdown",
   "metadata": {},
   "source": [
    "# 1.\tWrite a python function to accept user inputs, store it in a list and compute the highest number out of it. User can enter as many numbers as he/she wants.\n",
    "Take care of following things:\n",
    "1.\tInput must be entered by user\n",
    "2.\tException handling\n",
    "3.\tNull values\n",
    "4.\tErrors\n",
    "5.\tDatatypes\n",
    "\n",
    "Output of the function must be a number.\n",
    "It should accept correct values and for incorrect values, an error message must be displayed to the user\n"
   ]
  },
  {
   "cell_type": "code",
   "execution_count": 128,
   "metadata": {},
   "outputs": [
    {
     "name": "stdout",
     "output_type": "stream",
     "text": [
      "Enter a multiple value separated by comma: 85,52\n",
      "\n",
      "Highest Number in the list is  85.0\n"
     ]
    }
   ],
   "source": [
    "# Getting Inputs from \n",
    "x = list(input(\"Enter a multiple value separated by comma: \").split(','))\n",
    "try:\n",
    "    newlist=[]\n",
    "    for i in x:\n",
    "        try:\n",
    "            newlist.append(float(i))    # Converting user input to Numeric \n",
    "        except ValueError:              \n",
    "            newlist.clear()\n",
    "            if i ==\"\":\n",
    "                print('\\n\" \"  Null Value is presented in the list, Enter only Numeric value')\n",
    "            else:\n",
    "                print(\"\\n\\\"\",i,\"\\\"\",\"Value entered is not Numeric & Enter only Numeric Value\")\n",
    "            break\n",
    "    print(\"\\nHighest Number in the list is \",max(newlist))\n",
    "except ValueError:\n",
    "    pass\n",
    "\n",
    "\n"
   ]
  }
 ],
 "metadata": {
  "kernelspec": {
   "display_name": "Python 3",
   "language": "python",
   "name": "python3"
  },
  "language_info": {
   "codemirror_mode": {
    "name": "ipython",
    "version": 3
   },
   "file_extension": ".py",
   "mimetype": "text/x-python",
   "name": "python",
   "nbconvert_exporter": "python",
   "pygments_lexer": "ipython3",
   "version": "3.8.3"
  }
 },
 "nbformat": 4,
 "nbformat_minor": 4
}
