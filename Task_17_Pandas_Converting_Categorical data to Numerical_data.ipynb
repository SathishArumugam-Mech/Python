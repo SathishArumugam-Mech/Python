{
 "cells": [
  {
   "cell_type": "markdown",
   "metadata": {},
   "source": [
    "# Create a dataframe using labelencoders and onehotencoder and converting categorical data to numerical data"
   ]
  },
  {
   "cell_type": "code",
   "execution_count": 23,
   "metadata": {},
   "outputs": [
    {
     "name": "stdout",
     "output_type": "stream",
     "text": [
      "Requirement already satisfied: scikit-learn in c:\\users\\deepika\\anaconda3\\lib\\site-packages (0.23.1)\n",
      "Requirement already satisfied: joblib>=0.11 in c:\\users\\deepika\\anaconda3\\lib\\site-packages (from scikit-learn) (0.16.0)\n",
      "Requirement already satisfied: numpy>=1.13.3 in c:\\users\\deepika\\anaconda3\\lib\\site-packages (from scikit-learn) (1.18.5)\n",
      "Requirement already satisfied: scipy>=0.19.1 in c:\\users\\deepika\\anaconda3\\lib\\site-packages (from scikit-learn) (1.5.0)\n",
      "Requirement already satisfied: threadpoolctl>=2.0.0 in c:\\users\\deepika\\anaconda3\\lib\\site-packages (from scikit-learn) (2.1.0)\n"
     ]
    }
   ],
   "source": [
    "!pip install --user scikit-learn"
   ]
  },
  {
   "cell_type": "code",
   "execution_count": 70,
   "metadata": {},
   "outputs": [
    {
     "name": "stdout",
     "output_type": "stream",
     "text": [
      "                    Name  Ranking       Country\n",
      "0            Dawid Malan        1       England\n",
      "1             Babar Azam        2      Pakistan\n",
      "2               KL Rahul        3         India\n",
      "3            Aaron Finch        4     Australia\n",
      "4  Rassie van der Dussen        5  South Africa\n",
      "5          Glenn Maxwell        6     Australia\n",
      "6            Virat Kohli        7         India\n",
      "7             olin Munro        8    New Zeland\n",
      "8            Tim Seifert        9    New Zeland\n",
      "9      Hazratullah Zazai       10   Afghanistan \n",
      "\n",
      "<class 'pandas.core.frame.DataFrame'>\n"
     ]
    }
   ],
   "source": [
    "import numpy as np\n",
    "import pandas as pd\n",
    "\n",
    "\n",
    "name = [\"Dawid Malan\",\"Babar Azam\",\"KL Rahul\",\"Aaron Finch\",\"Rassie van der Dussen\",\"Glenn Maxwell\",\"Virat Kohli\",\"olin Munro\",\"Tim Seifert\",\"Hazratullah Zazai\"]\n",
    "choice = [1,2,3,4,5,6,7,8,9,10]\n",
    "Country = ['England','Pakistan','India','Australia','South Africa','Australia','India','New Zeland','New Zeland','Afghanistan']\n",
    "\n",
    "#creating dictionary\n",
    "dict1 = {'Name':name,'Ranking':choice,'Country':Country}\n",
    "\n",
    "#creating dataframe-1\n",
    "df = pd.DataFrame(dict1)\n",
    "print(df,\"\\n\")\n",
    "print(type(df))\n"
   ]
  },
  {
   "cell_type": "code",
   "execution_count": 71,
   "metadata": {},
   "outputs": [
    {
     "name": "stdout",
     "output_type": "stream",
     "text": [
      "[['Dawid Malan' 1 'England']\n",
      " ['Babar Azam' 2 'Pakistan']\n",
      " ['KL Rahul' 3 'India']\n",
      " ['Aaron Finch' 4 'Australia']\n",
      " ['Rassie van der Dussen' 5 'South Africa']\n",
      " ['Glenn Maxwell' 6 'Australia']\n",
      " ['Virat Kohli' 7 'India']\n",
      " ['olin Munro' 8 'New Zeland']\n",
      " ['Tim Seifert' 9 'New Zeland']\n",
      " ['Hazratullah Zazai' 10 'Afghanistan']] \n",
      "\n",
      "<class 'numpy.ndarray'>\n"
     ]
    }
   ],
   "source": [
    "df = df.iloc[:,:].values\n",
    "print(df,\"\\n\")\n",
    "print(type(df))\n"
   ]
  },
  {
   "cell_type": "code",
   "execution_count": 72,
   "metadata": {},
   "outputs": [
    {
     "name": "stdout",
     "output_type": "stream",
     "text": [
      "[['Dawid Malan' 1 2]\n",
      " ['Babar Azam' 2 5]\n",
      " ['KL Rahul' 3 3]\n",
      " ['Aaron Finch' 4 1]\n",
      " ['Rassie van der Dussen' 5 6]\n",
      " ['Glenn Maxwell' 6 1]\n",
      " ['Virat Kohli' 7 3]\n",
      " ['olin Munro' 8 4]\n",
      " ['Tim Seifert' 9 4]\n",
      " ['Hazratullah Zazai' 10 0]]\n"
     ]
    }
   ],
   "source": [
    "# Coverting the categorical data to numerical for column \"Country\" using labelencoder\n",
    "\n",
    "from sklearn.preprocessing import LabelEncoder\n",
    "nation=LabelEncoder()\n",
    "df[:,2]=nation.fit_transform(df[:,2])\n",
    "print(df)"
   ]
  },
  {
   "cell_type": "code",
   "execution_count": 73,
   "metadata": {},
   "outputs": [],
   "source": [
    "# Spilt the column into multiple columns using onehotencoder\n",
    "\n",
    "from sklearn.compose import ColumnTransformer\n",
    "from sklearn.preprocessing import OneHotEncoder\n",
    "ct=ColumnTransformer(transformers=[('encode',OneHotEncoder(),[2])],remainder=\"passthrough\")"
   ]
  },
  {
   "cell_type": "code",
   "execution_count": 74,
   "metadata": {},
   "outputs": [
    {
     "data": {
      "text/html": [
       "<div>\n",
       "<style scoped>\n",
       "    .dataframe tbody tr th:only-of-type {\n",
       "        vertical-align: middle;\n",
       "    }\n",
       "\n",
       "    .dataframe tbody tr th {\n",
       "        vertical-align: top;\n",
       "    }\n",
       "\n",
       "    .dataframe thead th {\n",
       "        text-align: right;\n",
       "    }\n",
       "</style>\n",
       "<table border=\"1\" class=\"dataframe\">\n",
       "  <thead>\n",
       "    <tr style=\"text-align: right;\">\n",
       "      <th></th>\n",
       "      <th>0</th>\n",
       "      <th>1</th>\n",
       "      <th>2</th>\n",
       "      <th>3</th>\n",
       "      <th>4</th>\n",
       "      <th>5</th>\n",
       "      <th>6</th>\n",
       "      <th>7</th>\n",
       "      <th>8</th>\n",
       "    </tr>\n",
       "  </thead>\n",
       "  <tbody>\n",
       "    <tr>\n",
       "      <th>0</th>\n",
       "      <td>0</td>\n",
       "      <td>0</td>\n",
       "      <td>1</td>\n",
       "      <td>0</td>\n",
       "      <td>0</td>\n",
       "      <td>0</td>\n",
       "      <td>0</td>\n",
       "      <td>Dawid Malan</td>\n",
       "      <td>1</td>\n",
       "    </tr>\n",
       "    <tr>\n",
       "      <th>1</th>\n",
       "      <td>0</td>\n",
       "      <td>0</td>\n",
       "      <td>0</td>\n",
       "      <td>0</td>\n",
       "      <td>0</td>\n",
       "      <td>1</td>\n",
       "      <td>0</td>\n",
       "      <td>Babar Azam</td>\n",
       "      <td>2</td>\n",
       "    </tr>\n",
       "    <tr>\n",
       "      <th>2</th>\n",
       "      <td>0</td>\n",
       "      <td>0</td>\n",
       "      <td>0</td>\n",
       "      <td>1</td>\n",
       "      <td>0</td>\n",
       "      <td>0</td>\n",
       "      <td>0</td>\n",
       "      <td>KL Rahul</td>\n",
       "      <td>3</td>\n",
       "    </tr>\n",
       "    <tr>\n",
       "      <th>3</th>\n",
       "      <td>0</td>\n",
       "      <td>1</td>\n",
       "      <td>0</td>\n",
       "      <td>0</td>\n",
       "      <td>0</td>\n",
       "      <td>0</td>\n",
       "      <td>0</td>\n",
       "      <td>Aaron Finch</td>\n",
       "      <td>4</td>\n",
       "    </tr>\n",
       "    <tr>\n",
       "      <th>4</th>\n",
       "      <td>0</td>\n",
       "      <td>0</td>\n",
       "      <td>0</td>\n",
       "      <td>0</td>\n",
       "      <td>0</td>\n",
       "      <td>0</td>\n",
       "      <td>1</td>\n",
       "      <td>Rassie van der Dussen</td>\n",
       "      <td>5</td>\n",
       "    </tr>\n",
       "    <tr>\n",
       "      <th>5</th>\n",
       "      <td>0</td>\n",
       "      <td>1</td>\n",
       "      <td>0</td>\n",
       "      <td>0</td>\n",
       "      <td>0</td>\n",
       "      <td>0</td>\n",
       "      <td>0</td>\n",
       "      <td>Glenn Maxwell</td>\n",
       "      <td>6</td>\n",
       "    </tr>\n",
       "    <tr>\n",
       "      <th>6</th>\n",
       "      <td>0</td>\n",
       "      <td>0</td>\n",
       "      <td>0</td>\n",
       "      <td>1</td>\n",
       "      <td>0</td>\n",
       "      <td>0</td>\n",
       "      <td>0</td>\n",
       "      <td>Virat Kohli</td>\n",
       "      <td>7</td>\n",
       "    </tr>\n",
       "    <tr>\n",
       "      <th>7</th>\n",
       "      <td>0</td>\n",
       "      <td>0</td>\n",
       "      <td>0</td>\n",
       "      <td>0</td>\n",
       "      <td>1</td>\n",
       "      <td>0</td>\n",
       "      <td>0</td>\n",
       "      <td>olin Munro</td>\n",
       "      <td>8</td>\n",
       "    </tr>\n",
       "    <tr>\n",
       "      <th>8</th>\n",
       "      <td>0</td>\n",
       "      <td>0</td>\n",
       "      <td>0</td>\n",
       "      <td>0</td>\n",
       "      <td>1</td>\n",
       "      <td>0</td>\n",
       "      <td>0</td>\n",
       "      <td>Tim Seifert</td>\n",
       "      <td>9</td>\n",
       "    </tr>\n",
       "    <tr>\n",
       "      <th>9</th>\n",
       "      <td>1</td>\n",
       "      <td>0</td>\n",
       "      <td>0</td>\n",
       "      <td>0</td>\n",
       "      <td>0</td>\n",
       "      <td>0</td>\n",
       "      <td>0</td>\n",
       "      <td>Hazratullah Zazai</td>\n",
       "      <td>10</td>\n",
       "    </tr>\n",
       "  </tbody>\n",
       "</table>\n",
       "</div>"
      ],
      "text/plain": [
       "   0  1  2  3  4  5  6                      7   8\n",
       "0  0  0  1  0  0  0  0            Dawid Malan   1\n",
       "1  0  0  0  0  0  1  0             Babar Azam   2\n",
       "2  0  0  0  1  0  0  0               KL Rahul   3\n",
       "3  0  1  0  0  0  0  0            Aaron Finch   4\n",
       "4  0  0  0  0  0  0  1  Rassie van der Dussen   5\n",
       "5  0  1  0  0  0  0  0          Glenn Maxwell   6\n",
       "6  0  0  0  1  0  0  0            Virat Kohli   7\n",
       "7  0  0  0  0  1  0  0             olin Munro   8\n",
       "8  0  0  0  0  1  0  0            Tim Seifert   9\n",
       "9  1  0  0  0  0  0  0      Hazratullah Zazai  10"
      ]
     },
     "execution_count": 74,
     "metadata": {},
     "output_type": "execute_result"
    }
   ],
   "source": [
    "y=ct.fit_transform(df)\n",
    "df=pd.DataFrame(y)\n",
    "df"
   ]
  }
 ],
 "metadata": {
  "kernelspec": {
   "display_name": "Python 3",
   "language": "python",
   "name": "python3"
  },
  "language_info": {
   "codemirror_mode": {
    "name": "ipython",
    "version": 3
   },
   "file_extension": ".py",
   "mimetype": "text/x-python",
   "name": "python",
   "nbconvert_exporter": "python",
   "pygments_lexer": "ipython3",
   "version": "3.8.3"
  }
 },
 "nbformat": 4,
 "nbformat_minor": 4
}
