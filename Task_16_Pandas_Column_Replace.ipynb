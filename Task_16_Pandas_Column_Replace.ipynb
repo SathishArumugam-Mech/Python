{
 "cells": [
  {
   "cell_type": "markdown",
   "metadata": {},
   "source": [
    "# Create a data & use Replace function to replace the observation df.replace"
   ]
  },
  {
   "cell_type": "code",
   "execution_count": 4,
   "metadata": {},
   "outputs": [
    {
     "name": "stdout",
     "output_type": "stream",
     "text": [
      "                    Name  Ranking\n",
      "0            Dawid Malan        1\n",
      "1             Babar Azam        2\n",
      "2               KL Rahul        3\n",
      "3            Aaron Finch        4\n",
      "4  Rassie van der Dussen        5\n",
      "5          Glenn Maxwell        6\n",
      "6            Virat Kohli        7\n",
      "7             olin Munro        8\n",
      "8            Tim Seifert        9\n",
      "9      Hazratullah Zazai       10 \n",
      "\n"
     ]
    }
   ],
   "source": [
    "import numpy as np\n",
    "import pandas as pd\n",
    "\n",
    "name = [\"Dawid Malan\",\"Babar Azam\",\"KL Rahul\",\"Aaron Finch\",\"Rassie van der Dussen\",\"Glenn Maxwell\",\"Virat Kohli\",\"olin Munro\",\"Tim Seifert\",\"Hazratullah Zazai\"]\n",
    "choice = [1,2,3,4,5,6,7,8,9,10]\n",
    "\n",
    "#creating dictionary\n",
    "dict1 = {'Name':name,'Ranking':choice}\n",
    "\n",
    "#creating dataframe-1\n",
    "df1 = pd.DataFrame(dict1)\n",
    "print(df1,\"\\n\")"
   ]
  },
  {
   "cell_type": "code",
   "execution_count": 10,
   "metadata": {},
   "outputs": [
    {
     "name": "stdout",
     "output_type": "stream",
     "text": [
      "                    Name Ranking\n",
      "0            Dawid Malan     1st\n",
      "1             Babar Azam     2nd\n",
      "2               KL Rahul     3rd\n",
      "3            Aaron Finch     4th\n",
      "4  Rassie van der Dussen     5th\n",
      "5          Glenn Maxwell     6th\n",
      "6            Virat Kohli     7th\n",
      "7             olin Munro     8th\n",
      "8            Tim Seifert     9th\n",
      "9      Hazratullah Zazai    10th\n"
     ]
    }
   ],
   "source": [
    "#Replacing Ranking Column\n",
    "\n",
    "df1=df1.replace([1,2,3,4,5,6,7,8,9,10],['1st','2nd','3rd','4th','5th','6th','7th','8th','9th','10th'])\n",
    "print(df1)\n",
    "df1.to_csv(\"Men's T20I Player Rankings\")"
   ]
  }
 ],
 "metadata": {
  "kernelspec": {
   "display_name": "Python 3",
   "language": "python",
   "name": "python3"
  },
  "language_info": {
   "codemirror_mode": {
    "name": "ipython",
    "version": 3
   },
   "file_extension": ".py",
   "mimetype": "text/x-python",
   "name": "python",
   "nbconvert_exporter": "python",
   "pygments_lexer": "ipython3",
   "version": "3.8.3"
  }
 },
 "nbformat": 4,
 "nbformat_minor": 4
}
