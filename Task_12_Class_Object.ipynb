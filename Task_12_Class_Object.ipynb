{
 "cells": [
  {
   "cell_type": "markdown",
   "metadata": {},
   "source": [
    "# Creating Class and Object in Python"
   ]
  },
  {
   "cell_type": "code",
   "execution_count": 2,
   "metadata": {},
   "outputs": [
    {
     "name": "stdout",
     "output_type": "stream",
     "text": [
      "<__main__.Car object at 0x000000CB5B876880>\n",
      "160\n",
      "Ciaz\n"
     ]
    }
   ],
   "source": [
    "class Car:\n",
    "    def __init__(self,brand,model,colour,topspeed,mileage):\n",
    "        self.brand = brand\n",
    "        self.model = model\n",
    "        self.colour = colour\n",
    "        self.topspeed = topspeed\n",
    "        self.mileage = mileage\n",
    "        \n",
    "Car1 = Car('Ford','Ecosport','Red',160,15)\n",
    "Car2 = Car('Maruti','Ciaz','blue',130,25)\n",
    "print(Car1)\n",
    "\n",
    "print(Car1.topspeed)\n",
    "print(Car2.model)\n",
    "\n"
   ]
  },
  {
   "cell_type": "code",
   "execution_count": null,
   "metadata": {},
   "outputs": [],
   "source": [
    "# In the above program, I created a class with the name Car. \n",
    "# Then,I define attributes. The attributes are a characteristic of an object. eg. brand,model etc...\n",
    "\n",
    "# These attributes are defined inside the __init__ method of the class. \n",
    "# It is the initializer method that is first run as soon as the object is created.\n",
    "\n",
    "# Then, I create instances of the Car class. Here, Car1 and Car2 are references (value) to our new objects."
   ]
  },
  {
   "cell_type": "code",
   "execution_count": 1,
   "metadata": {},
   "outputs": [
    {
     "name": "stdout",
     "output_type": "stream",
     "text": [
      "bird\n",
      "bird\n",
      "Blu is a bird\n",
      "Woo is also a bird\n",
      "bird\n",
      "Blu is 10 years old\n",
      "Woo is 15 years old\n"
     ]
    }
   ],
   "source": [
    "class Parrot:\n",
    "    species = \"bird\"                      # class attribute\n",
    "\n",
    "    def __init__(self, name, age):        # instance attribute\n",
    "        self.name = name\n",
    "        self.age = age\n",
    "\n",
    "blu = Parrot(\"Blu\", 10)\n",
    "woo = Parrot(\"Woo\", 15)\n",
    "\n",
    "# Access the class attributes\n",
    "\n",
    "print(blu.species)\n",
    "print(woo.species)\n",
    "\n",
    "print(\"Blu is a {}\".format(blu.__class__.species))\n",
    "print(\"Woo is also a {}\".format(woo.__class__.species))\n",
    "\n",
    "# Note: We can access the class variables by using the classname itself ie.,\n",
    "\n",
    "print(Parrot.species)\n",
    "\n",
    "# access the instance attributes\n",
    "\n",
    "print(\"{} is {} years old\".format( blu.name, blu.age))\n",
    "print(\"{} is {} years old\".format( woo.name, woo.age))"
   ]
  },
  {
   "cell_type": "markdown",
   "metadata": {},
   "source": [
    "# Methods"
   ]
  },
  {
   "cell_type": "code",
   "execution_count": null,
   "metadata": {},
   "outputs": [],
   "source": [
    "class Parrot:\n",
    "    \n",
    "    # instance attributes\n",
    "    def __init__(self, name, age):\n",
    "        self.name = name\n",
    "        self.age = age\n",
    "    \n",
    "    def sing(self, song):                               # instance method with one parameter\n",
    "        return \"{} sings {}\".format(self.name, song)\n",
    "                                    \n",
    "    def dance(self):                                    # instance method with one parameter\n",
    "        return \"{} is now dancing\".format(self.name)\n",
    "\n",
    "# instantiate the object\n",
    "blu = Parrot(\"Blu\", 10)\n",
    "\n",
    "# call our instance methods\n",
    "\n",
    "print(blu.sing(\"'Happy'\"))\n",
    "print(blu.dance())"
   ]
  }
 ],
 "metadata": {
  "kernelspec": {
   "display_name": "Python 3",
   "language": "python",
   "name": "python3"
  },
  "language_info": {
   "codemirror_mode": {
    "name": "ipython",
    "version": 3
   },
   "file_extension": ".py",
   "mimetype": "text/x-python",
   "name": "python",
   "nbconvert_exporter": "python",
   "pygments_lexer": "ipython3",
   "version": "3.8.3"
  }
 },
 "nbformat": 4,
 "nbformat_minor": 4
}
