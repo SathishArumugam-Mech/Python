{
 "cells": [
  {
   "cell_type": "code",
   "execution_count": 48,
   "metadata": {},
   "outputs": [],
   "source": [
    "def add(Num1,Num2):\n",
    "    return Num1 + Num2\n",
    "def sub(Num1,Num2):\n",
    "    return Num1 - Num2\n",
    "def mul(Num1,Num2):\n",
    "    return Num1 * Num2\n",
    "def div(Num1,Num2):\n",
    "    return Num1 / Num2"
   ]
  },
  {
   "cell_type": "code",
   "execution_count": 49,
   "metadata": {},
   "outputs": [
    {
     "name": "stdout",
     "output_type": "stream",
     "text": [
      "Enter 1st Number:85\n",
      "Enter 2nd Number:12\n",
      "Press 1 for addition,2 for subtraction,3 for multiplication and 4 for division:  4\n",
      "85.0 / 12.0 =  7.083333333333333\n"
     ]
    }
   ],
   "source": [
    "Num1 = float(input(\"Enter 1st Number:\"))\n",
    "Num2 = float(input(\"Enter 2nd Number:\"))\n",
    "Operation = int(input (\"Press 1 for addition,2 for subtraction,3 for multiplication and 4 for division:  \"))\n",
    "if Operation == 1:\n",
    "    print(Num1,\"+\",Num2,\"= \",add(Num1,Num2))\n",
    "elif Operation == 2:\n",
    "    print(Num1,\"-\",Num2,\"= \",sub(Num1,Num2))\n",
    "elif Operation == 3:\n",
    "    print(Num1,\"*\",Num2,\"= \",mul(Num1,Num2))\n",
    "elif Operation == 4:\n",
    "    print(Num1,\"/\",Num2,\"= \",div(Num1,Num2))\n",
    "else:\n",
    "    print(\"Input provided for operation is invalid and its not between 1 to 4\")"
   ]
  }
 ],
 "metadata": {
  "kernelspec": {
   "display_name": "Python 3",
   "language": "python",
   "name": "python3"
  },
  "language_info": {
   "codemirror_mode": {
    "name": "ipython",
    "version": 3
   },
   "file_extension": ".py",
   "mimetype": "text/x-python",
   "name": "python",
   "nbconvert_exporter": "python",
   "pygments_lexer": "ipython3",
   "version": "3.8.3"
  }
 },
 "nbformat": 4,
 "nbformat_minor": 4
}
