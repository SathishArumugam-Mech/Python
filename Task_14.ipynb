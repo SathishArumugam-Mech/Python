{
 "cells": [
  {
   "cell_type": "markdown",
   "metadata": {},
   "source": [
    "# Create 10 dictionaries and Convert that to Panda Series & access 3 ,5 keys And Last 6 keys access through reverse indexing"
   ]
  },
  {
   "cell_type": "code",
   "execution_count": 3,
   "metadata": {},
   "outputs": [
    {
     "name": "stdout",
     "output_type": "stream",
     "text": [
      "{1: 1, 2: 4, 3: 9, 4: 16, 5: 25, 6: 36, 7: 49, 8: 64, 9: 81, 10: 100}\n",
      "1       1\n",
      "2       4\n",
      "3       9\n",
      "4      16\n",
      "5      25\n",
      "6      36\n",
      "7      49\n",
      "8      64\n",
      "9      81\n",
      "10    100\n",
      "dtype: int64 \n",
      "\n",
      "9 \n",
      "\n",
      "25 \n",
      "\n",
      "3     9\n",
      "5    25\n",
      "dtype: int64 \n",
      "\n",
      "5      25\n",
      "6      36\n",
      "7      49\n",
      "8      64\n",
      "9      81\n",
      "10    100\n",
      "dtype: int64 \n",
      "\n",
      "10    100\n",
      "9      81\n",
      "8      64\n",
      "7      49\n",
      "6      36\n",
      "5      25\n",
      "dtype: int64 \n",
      "\n"
     ]
    }
   ],
   "source": [
    "squares = {}\n",
    "for x in range(1,11):\n",
    "    squares[x] = x*x\n",
    "print(squares)\n",
    "\n",
    "import pandas as pd\n",
    "ds = pd.Series(squares)\n",
    "print(ds,\"\\n\")\n",
    "\n",
    "# Accesing 3rd Element\n",
    "print(ds[3],\"\\n\")\n",
    "\n",
    "# Accesing 5th Element\n",
    "print(ds[5],\"\\n\")\n",
    "\n",
    "# Accesing 3rd and 5th Element\n",
    "print(ds[2:6:2],\"\\n\")\n",
    "\n",
    "# Accesing last 6 elements using Reverse indexing\n",
    "print(ds[-6::],\"\\n\")\n",
    "\n",
    "# Accesing last 6 elements (in reverse order) using Reverse indexing\n",
    "print(ds[:-7:-1],\"\\n\")"
   ]
  },
  {
   "cell_type": "markdown",
   "metadata": {},
   "source": [
    "# Create 10 dictionaries and Convert that to Panda DataFrame & access 3 ,5 keys And Last 6 keys access through reverse indexing"
   ]
  },
  {
   "cell_type": "code",
   "execution_count": 4,
   "metadata": {},
   "outputs": [
    {
     "name": "stdout",
     "output_type": "stream",
     "text": [
      "       name  degree  score\n",
      "0    Aparna     MBA     90\n",
      "1    Pankaj     BCA     40\n",
      "2    Sudhir  M.Tech     80\n",
      "3     Geeku     MBA     98\n",
      "4    Suresh   B.Com     87\n",
      "5    Ramesh  B.Tech     86\n",
      "6      John  B.Tech     78\n",
      "7  Santhosh     BBA     92\n",
      "8     Rajan  M.Tech     74\n",
      "9   Bhaskar    M.Sc     88 \n",
      "\n",
      "name      Geeku\n",
      "degree      MBA\n",
      "score        98\n",
      "Name: 3, dtype: object \n",
      "\n",
      "name      Ramesh\n",
      "degree    B.Tech\n",
      "score         86\n",
      "Name: 5, dtype: object \n",
      "\n",
      "     name  degree  score\n",
      "2  Sudhir  M.Tech     80\n",
      "4  Suresh   B.Com     87 \n",
      "\n",
      "       name  degree  score\n",
      "4    Suresh   B.Com     87\n",
      "5    Ramesh  B.Tech     86\n",
      "6      John  B.Tech     78\n",
      "7  Santhosh     BBA     92\n",
      "8     Rajan  M.Tech     74\n",
      "9   Bhaskar    M.Sc     88 \n",
      "\n",
      "       name  degree  score\n",
      "9   Bhaskar    M.Sc     88\n",
      "8     Rajan  M.Tech     74\n",
      "7  Santhosh     BBA     92\n",
      "6      John  B.Tech     78\n",
      "5    Ramesh  B.Tech     86\n",
      "4    Suresh   B.Com     87 \n",
      "\n"
     ]
    }
   ],
   "source": [
    "dict = {'name':[\"Aparna\", \"Pankaj\", \"Sudhir\", \"Geeku\", \"Suresh\", \"Ramesh\", \"John\", \"Santhosh\", \"Rajan\", \"Bhaskar\"], \n",
    "        'degree': [\"MBA\", \"BCA\", \"M.Tech\", \"MBA\", \"B.Com\", \"B.Tech\",\"B.Tech\", \"BBA\", \"M.Tech\", \"M.Sc\"], \n",
    "        'score':[90, 40, 80, 98,87,86,78,92,74,88]}\n",
    "import pandas as pd\n",
    "df = pd.DataFrame(dict)\n",
    "print(df,\"\\n\")\n",
    "\n",
    "# Accesing 3rd Element\n",
    "print(df.iloc[3],\"\\n\")\n",
    "\n",
    "# Accesing 5th Element\n",
    "print(df.iloc[5],\"\\n\")\n",
    "\n",
    "# Accesing 3rd and 5th Element\n",
    "print(df.iloc[2:6:2],\"\\n\")\n",
    "\n",
    "# Accesing last 6 elements using Reverse indexing\n",
    "print(df.iloc[-6::],\"\\n\")\n",
    "\n",
    "# Accesing last 6 elements (in reverse order) using Reverse indexing\n",
    "print(df.iloc[:-7:-1],\"\\n\")"
   ]
  }
 ],
 "metadata": {
  "kernelspec": {
   "display_name": "Python 3",
   "language": "python",
   "name": "python3"
  },
  "language_info": {
   "codemirror_mode": {
    "name": "ipython",
    "version": 3
   },
   "file_extension": ".py",
   "mimetype": "text/x-python",
   "name": "python",
   "nbconvert_exporter": "python",
   "pygments_lexer": "ipython3",
   "version": "3.8.3"
  }
 },
 "nbformat": 4,
 "nbformat_minor": 4
}
