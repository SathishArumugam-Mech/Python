{
 "cells": [
  {
   "cell_type": "markdown",
   "metadata": {},
   "source": [
    "# 1.Write a function to remove duplicate values in a string.\n",
    "Ex: ‘Hello’ as input, the output should be ‘Helo’. ‘Good’ as input, the output should be ‘God’."
   ]
  },
  {
   "cell_type": "code",
   "execution_count": null,
   "metadata": {},
   "outputs": [],
   "source": [
    "def removeDuplicate(str, n): \n",
    "      \n",
    "    # Used as index in the modified string \n",
    "    index = 0\n",
    "      \n",
    "    # Traverse through all characters \n",
    "    for i in range(0, n): \n",
    "          \n",
    "        # Check if str[i] is present before it  \n",
    "        for j in range(0, i + 1): \n",
    "            if (str[i] == str[j]): \n",
    "                break\n",
    "                  \n",
    "        # If not present, then add it to \n",
    "        # result. \n",
    "        if (j == i): \n",
    "            str[index] = str[i] \n",
    "            index += 1\n",
    "              \n",
    "    return \"\".join(str[:index]) \n",
    "  \n",
    "# Code\n",
    "str= input(\"Enter a string :\")\n",
    "n = len(str) \n",
    "print(removeDuplicate(list(str), n)) \n",
    "\n"
   ]
  },
  {
   "cell_type": "markdown",
   "metadata": {},
   "source": [
    "# 2.Write a class and method under it to perform squareRoot, cuberoot and Nth root of a number. \n",
    "Ex:- If I pass number 8 and 3, it should return cube root of 8. If I pass 16 and 4, it should retutn fourth root of 16"
   ]
  },
  {
   "cell_type": "code",
   "execution_count": null,
   "metadata": {},
   "outputs": [],
   "source": [
    "# def myfunc(a,n):\n",
    "#     return a **(1/n)\n",
    "\n",
    "# myfunc(125,3)\n",
    "\n",
    "\n",
    "class root:\n",
    "    def __init__(self, a, n):\n",
    "        self.a = a\n",
    "        self.n = n\n",
    "        \n",
    "    def myfunc(self):\n",
    "        return self.a**(1/self.n)\n",
    "\n",
    "Num1,Num2 = [float(x) for x in input(\"Enter a value, root number : \").split(',')]\n",
    "p1 = root(Num1, Num2)\n",
    "p1.myfunc()\n"
   ]
  },
  {
   "cell_type": "markdown",
   "metadata": {},
   "source": [
    "# 3.Write a function which takes a list as input and returns list in a reverse order. \n",
    "Ex: [1,3,4,5,6] the output should be [6,5,4,3,1]\n"
   ]
  },
  {
   "cell_type": "code",
   "execution_count": null,
   "metadata": {},
   "outputs": [],
   "source": [
    "def Reverse(lst): \n",
    "    lst.reverse() \n",
    "    return lst \n",
    "      \n",
    "lst = [int(x) for x in input(\"Enter multiple value: \").split(',')]\n",
    "#lst = [10, 11, 12, 13, 14, 15] \n",
    "print(Reverse(lst)) "
   ]
  },
  {
   "cell_type": "markdown",
   "metadata": {},
   "source": [
    "# 4.Write a class which takes three inputs and returns the smallest and the largest number.\n",
    "Ex: ClassName.smallest(1,2,3) should return 1. ClassName.largest(1,2,3) should return "
   ]
  },
  {
   "cell_type": "code",
   "execution_count": null,
   "metadata": {},
   "outputs": [],
   "source": [
    "class Number:\n",
    "    def __init__(self,a,b,c):\n",
    "        self.a = a\n",
    "        self.b = b\n",
    "        self.c = c\n",
    "    \n",
    "    def largest(self):\n",
    "        list = [self.a,self.b,self.a]\n",
    "        return max(list)\n",
    "    \n",
    "    def smallest(self):\n",
    "        list = [self.a,self.b,self.a]\n",
    "        return min(list)\n",
    "\n",
    "p1 = Number(100,21,52)\n",
    "print(p1.largest())\n",
    "print(p1.smallest())\n",
    "\n",
    "\n",
    "# def maximum(a, b, c): \n",
    "#     list = [a, b, c] \n",
    "#     return max(list) \n",
    "\n",
    "# Driven code  \n",
    "# a = 10\n",
    "# b = 14\n",
    "# c = 12\n",
    "# print(maximum(a, b, c))"
   ]
  }
 ],
 "metadata": {
  "kernelspec": {
   "display_name": "Python 3",
   "language": "python",
   "name": "python3"
  },
  "language_info": {
   "codemirror_mode": {
    "name": "ipython",
    "version": 3
   },
   "file_extension": ".py",
   "mimetype": "text/x-python",
   "name": "python",
   "nbconvert_exporter": "python",
   "pygments_lexer": "ipython3",
   "version": "3.8.3"
  }
 },
 "nbformat": 4,
 "nbformat_minor": 4
}
