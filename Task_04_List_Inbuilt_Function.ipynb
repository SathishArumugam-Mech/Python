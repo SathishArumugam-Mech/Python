{
 "cells": [
  {
   "cell_type": "code",
   "execution_count": 8,
   "metadata": {},
   "outputs": [
    {
     "name": "stdout",
     "output_type": "stream",
     "text": [
      "['apple', 'banana', 'cherry', 'orange']\n",
      "['apple', 'banana', 'cherry', 'orange']\n",
      "[1000, 'banana', 'cherry', 'orange']\n",
      "[1000, 'banana', 'cherry', 'orange']\n",
      "[1000, 'banana', 'cherry', 'orange', 1, 4, 5, 9]\n"
     ]
    }
   ],
   "source": [
    "fruits = ['apple','banana','cherry','orange']\n",
    "x = fruits.copy()\n",
    "print(fruits)\n",
    "print(x)\n",
    "fruits = x\n",
    "x[0]=1000\n",
    "print(fruits)\n",
    "print(x)\n",
    "points = (1, 4, 5, 9)\n",
    "fruits.extend(points)\n",
    "print(fruits)"
   ]
  },
  {
   "cell_type": "code",
   "execution_count": 9,
   "metadata": {},
   "outputs": [
    {
     "name": "stdout",
     "output_type": "stream",
     "text": [
      "['apple', 'banana', 'cherry', 1, 4, 5, 9]\n"
     ]
    }
   ],
   "source": [
    "fruits = ['apple','banana','cherry'] \n",
    "points = (1,4,5,9)\n",
    "fruits.extend(points)\n",
    "print(fruits)\n",
    "addition = fruits + list(points)"
   ]
  },
  {
   "cell_type": "code",
   "execution_count": 10,
   "metadata": {
    "scrolled": true
   },
   "outputs": [
    {
     "name": "stdout",
     "output_type": "stream",
     "text": [
      "['apple', 'cherry', 'banana']\n"
     ]
    }
   ],
   "source": [
    "fruits = ['apple','banana','cherry','banana']\n",
    "fruits.remove(\"banana\")\n",
    "print(fruits)"
   ]
  },
  {
   "cell_type": "code",
   "execution_count": 16,
   "metadata": {},
   "outputs": [
    {
     "name": "stdout",
     "output_type": "stream",
     "text": [
      "['banana', 'cherry', 'banana', 'apple']\n"
     ]
    }
   ],
   "source": [
    "fruits = ['apple','banana','cherry','banana']\n",
    "fruits.reverse()\n",
    "print(fruits)\n"
   ]
  },
  {
   "cell_type": "code",
   "execution_count": 18,
   "metadata": {},
   "outputs": [
    {
     "name": "stdout",
     "output_type": "stream",
     "text": [
      "['apple', 'banana', 'banana', 'cherry']\n"
     ]
    }
   ],
   "source": [
    "fruits = ['apple','banana','cherry','banana']\n",
    "fruits.sort()\n",
    "print(fruits)"
   ]
  },
  {
   "cell_type": "code",
   "execution_count": 21,
   "metadata": {},
   "outputs": [
    {
     "name": "stdout",
     "output_type": "stream",
     "text": [
      "['cherry', 'banana', 'banana', 'apple']\n",
      "['apple', 'banana', 'banana', 'cherry']\n"
     ]
    }
   ],
   "source": [
    "fruits = ['apple','banana','cherry','banana']\n",
    "\n",
    "#Sorting by descending order\n",
    "fruits.sort(reverse=True)\n",
    "print(fruits)\n",
    "\n",
    "#Sorting by in ascending order\n",
    "fruits.sort(reverse=False)\n",
    "print(fruits)"
   ]
  }
 ],
 "metadata": {
  "kernelspec": {
   "display_name": "Python 3",
   "language": "python",
   "name": "python3"
  },
  "language_info": {
   "codemirror_mode": {
    "name": "ipython",
    "version": 3
   },
   "file_extension": ".py",
   "mimetype": "text/x-python",
   "name": "python",
   "nbconvert_exporter": "python",
   "pygments_lexer": "ipython3",
   "version": "3.8.3"
  }
 },
 "nbformat": 4,
 "nbformat_minor": 4
}
