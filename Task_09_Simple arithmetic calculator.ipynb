{
 "cells": [
  {
   "cell_type": "code",
   "execution_count": 69,
   "metadata": {},
   "outputs": [
    {
     "name": "stdout",
     "output_type": "stream",
     "text": [
      "Enter 1st Number:2\n",
      "Enter 2nd Number:5\n",
      "Press 1 for addition,2 for subtraction,3 for multiplication and 4 for division:  0\n",
      "Input provided for operation is invalid and its not between 1 to 4\n"
     ]
    }
   ],
   "source": [
    "Num1 = float(input(\"Enter 1st Number:\"))\n",
    "Num2 = float(input(\"Enter 2nd Number:\"))\n",
    "Operation = int(input (\"Press 1 for addition,2 for subtraction,3 for multiplication and 4 for division:  \"))\n",
    "if(Operation >= 1 and Operation <= 4):\n",
    "    if (Operation == 1):\n",
    "        Addition = Num1 + Num2\n",
    "        print(\"Num1 + Num2 = \" + str(Addition))\n",
    "    elif (Operation == 2):\n",
    "        Subraction = Num1 - Num2\n",
    "        print(\"Num1 - Num2 = \" + str(Subraction))\n",
    "    elif (Operation == 3):\n",
    "        Multiplication = Num1 * Num2\n",
    "        print(\"Num1 * Num2 = \" + str(Multiplication))\n",
    "    elif (Operation == 4):\n",
    "        Division = Num1 / Num2\n",
    "        print(\"Num1 / Num2 = \" + str(Division))\n",
    "else:\n",
    "    print(\"Input provided for operation is invalid and its not between 1 to 4\")\n",
    "    "
   ]
  }
 ],
 "metadata": {
  "kernelspec": {
   "display_name": "Python 3",
   "language": "python",
   "name": "python3"
  },
  "language_info": {
   "codemirror_mode": {
    "name": "ipython",
    "version": 3
   },
   "file_extension": ".py",
   "mimetype": "text/x-python",
   "name": "python",
   "nbconvert_exporter": "python",
   "pygments_lexer": "ipython3",
   "version": "3.8.3"
  }
 },
 "nbformat": 4,
 "nbformat_minor": 4
}
