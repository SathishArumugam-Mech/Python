{
 "cells": [
  {
   "cell_type": "code",
   "execution_count": 3,
   "metadata": {},
   "outputs": [
    {
     "name": "stdout",
     "output_type": "stream",
     "text": [
      "10\n",
      "9\n",
      "8\n",
      "7\n",
      "6\n",
      "5\n",
      "4\n",
      "3\n",
      "2\n",
      "1\n"
     ]
    }
   ],
   "source": [
    "# using while loop print numbers from 10 to 1\n",
    "count = 10\n",
    "while(count>=1):\n",
    "    print(count)\n",
    "    count = count - 1"
   ]
  },
  {
   "cell_type": "code",
   "execution_count": 80,
   "metadata": {},
   "outputs": [
    {
     "name": "stdout",
     "output_type": "stream",
     "text": [
      "red apple\n",
      "red banana\n",
      "red cherry\n",
      "big apple\n",
      "big banana\n",
      "big cherry\n",
      "tasty apple\n",
      "tasty banana\n",
      "tasty cherry\n"
     ]
    }
   ],
   "source": [
    "\n",
    "adj = [\"red\", \"big\", \"tasty\"]\n",
    "Fruits = [\"apple\", \"banana\", \"cherry\"]\n",
    "\n",
    "for x in adj:\n",
    "    for y in Fruits:\n",
    "        print(x, y)"
   ]
  },
  {
   "cell_type": "code",
   "execution_count": 66,
   "metadata": {},
   "outputs": [
    {
     "name": "stdout",
     "output_type": "stream",
     "text": [
      "apple\n",
      "banana\n",
      "cherry\n"
     ]
    }
   ],
   "source": [
    "# Using for loop to loop over tuples\n",
    "\n",
    "thistuple = (\"apple\", \"banana\", \"cherry\")\n",
    "for x in thistuple:\n",
    "    print(x)"
   ]
  },
  {
   "cell_type": "code",
   "execution_count": 132,
   "metadata": {},
   "outputs": [
    {
     "name": "stdout",
     "output_type": "stream",
     "text": [
      "Brand\n",
      "model\n",
      "year\n",
      "cost\n",
      "\n",
      "\n",
      "Bajaj\n",
      "Pulsar\n",
      "2015\n",
      "85000\n",
      "\n",
      "\n",
      "Bajaj\n",
      "Pulsar\n",
      "2015\n",
      "85000\n",
      "\n",
      "\n",
      "('Brand', 'Bajaj')\n",
      "('model', 'Pulsar')\n",
      "('year', 2015)\n",
      "('cost', 85000)\n",
      "\n",
      "\n",
      "Brand Bajaj\n",
      "model Pulsar\n",
      "year 2015\n",
      "cost 85000\n"
     ]
    }
   ],
   "source": [
    "# Using for loop to loop over dictionaries\n",
    "\n",
    "dict1 = {\"Brand\":\"Bajaj\",\n",
    "         \"model\":\"Pulsar\",\n",
    "         \"year\":2015,\n",
    "         \"cost\":85000}\n",
    "\n",
    "for x in dict1:             # This statment will print only key.\n",
    "    print(x)\n",
    "print(\"\\n\")\n",
    "\n",
    "for x in dict1:             #This statment will print only value.\n",
    "    print(dict1[x])\n",
    "print(\"\\n\")\n",
    "\n",
    "for x in dict1.values():    #This statment also wil print only value.\n",
    "    print(x)\n",
    "print(\"\\n\")\n",
    "\n",
    "for x in dict1.items():   # This statment will print both key and value.\n",
    "    print(x)\n",
    "print(\"\\n\")\n",
    "\n",
    "for x,y in dict1.items():   # This statment will print both key and value.\n",
    "    print(x,y)"
   ]
  },
  {
   "cell_type": "code",
   "execution_count": 159,
   "metadata": {},
   "outputs": [
    {
     "name": "stdout",
     "output_type": "stream",
     "text": [
      "('april_batch', {'student': {'name': 'Mike', 'marks': {'python': 80, 'maths': 70}}})\n",
      "\n",
      "\n",
      "april_batch\n",
      "{'student': {'name': 'Mike', 'marks': {'python': 80, 'maths': 70}}}\n",
      "april_batch {'student': {'name': 'Mike', 'marks': {'python': 80, 'maths': 70}}}\n",
      "python\n",
      "maths\n",
      "\n",
      "\n"
     ]
    }
   ],
   "source": [
    "# Using for loop to loop over nested dictionaries\n",
    "dict2 = { \n",
    "   \"april_batch\":{ \n",
    "      \"student\":{ \n",
    "         \"name\":\"Mike\",\n",
    "         \"marks\":{ \n",
    "            \"python\":80,\n",
    "            \"maths\":70\n",
    "         }\n",
    "      }\n",
    "   }\n",
    "}\n",
    "\n",
    "for x in dict2.items():\n",
    "    print(x)\n",
    "print(\"\\n\")\n",
    "\n",
    "for x,y in dict2.items():\n",
    "    print(x)\n",
    "    print(y)\n",
    "    print(x,y)\n",
    "\n",
    "for x in dict2[\"april_batch\"][\"student\"][\"marks\"]:         \n",
    "    print(x)\n",
    "print(\"\\n\")"
   ]
  },
  {
   "cell_type": "code",
   "execution_count": 125,
   "metadata": {},
   "outputs": [
    {
     "name": "stdout",
     "output_type": "stream",
     "text": [
      "red\n",
      "big\n",
      "tasty\n",
      "\n",
      "\n",
      "7\n",
      "8\n",
      "9\n"
     ]
    }
   ],
   "source": [
    "# Using for loop to loop over list\n",
    "\n",
    "Fruits1 = [\"red\", \"big\", \"tasty\"]\n",
    "for x in Fruits1:\n",
    "    print(x)\n",
    "print(\"\\n\")\n",
    "\n",
    "# Using for loop to loop over nested list    \n",
    "list1 = [1,2,[3,4,5,6,[7,8,9]]]\n",
    "for x in list1[2][4]:\n",
    "    print(x)"
   ]
  },
  {
   "cell_type": "code",
   "execution_count": 127,
   "metadata": {},
   "outputs": [
    {
     "name": "stdout",
     "output_type": "stream",
     "text": [
      "apple\n",
      "cherry\n",
      "banana\n",
      "student\n"
     ]
    }
   ],
   "source": [
    "# Using for loop to loop over set\n",
    "\n",
    "thisset = {\"apple\", \"banana\", \"cherry\"}\n",
    "\n",
    "for x in thisset:\n",
    "    print(x)\n",
    "\n"
   ]
  }
 ],
 "metadata": {
  "kernelspec": {
   "display_name": "Python 3",
   "language": "python",
   "name": "python3"
  },
  "language_info": {
   "codemirror_mode": {
    "name": "ipython",
    "version": 3
   },
   "file_extension": ".py",
   "mimetype": "text/x-python",
   "name": "python",
   "nbconvert_exporter": "python",
   "pygments_lexer": "ipython3",
   "version": "3.8.3"
  }
 },
 "nbformat": 4,
 "nbformat_minor": 4
}
